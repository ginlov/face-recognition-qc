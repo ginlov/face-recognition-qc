{
 "cells": [
  {
   "cell_type": "code",
   "execution_count": 1,
   "id": "6d9eac31",
   "metadata": {},
   "outputs": [
    {
     "name": "stderr",
     "output_type": "stream",
     "text": [
      "2025-09-30 11:16:02.090189: W tensorflow/stream_executor/platform/default/dso_loader.cc:64] Could not load dynamic library 'libcudart.so.11.0'; dlerror: libcudart.so.11.0: cannot open shared object file: No such file or directory\n",
      "2025-09-30 11:16:02.090243: I tensorflow/stream_executor/cuda/cudart_stub.cc:29] Ignore above cudart dlerror if you do not have a GPU set up on your machine.\n"
     ]
    }
   ],
   "source": [
    "from retinaface import RetinaFace\n",
    "import cv2"
   ]
  },
  {
   "cell_type": "code",
   "execution_count": 2,
   "id": "7d380f67",
   "metadata": {},
   "outputs": [],
   "source": [
    "# Load an image\n",
    "img_path = \"../test.jpg\"  # Change to your image path\n",
    "img = cv2.imread(img_path)"
   ]
  },
  {
   "cell_type": "code",
   "execution_count": 3,
   "id": "a22ec1c7",
   "metadata": {},
   "outputs": [
    {
     "name": "stdout",
     "output_type": "stream",
     "text": [
      "model[high quality] init ..\n"
     ]
    },
    {
     "name": "stderr",
     "output_type": "stream",
     "text": [
      "2025-09-30 11:16:04.125838: I tensorflow/stream_executor/platform/default/dso_loader.cc:53] Successfully opened dynamic library libcuda.so.1\n",
      "2025-09-30 11:16:04.169185: I tensorflow/stream_executor/cuda/cuda_gpu_executor.cc:923] could not open file to read NUMA node: /sys/bus/pci/devices/0000:01:00.0/numa_node\n",
      "Your kernel may have been built without NUMA support.\n",
      "2025-09-30 11:16:04.169277: I tensorflow/core/common_runtime/gpu/gpu_device.cc:1733] Found device 0 with properties: \n",
      "pciBusID: 0000:01:00.0 name: NVIDIA GeForce RTX 3060 computeCapability: 8.6\n",
      "coreClock: 1.777GHz coreCount: 28 deviceMemorySize: 12.00GiB deviceMemoryBandwidth: 335.32GiB/s\n",
      "2025-09-30 11:16:04.169420: W tensorflow/stream_executor/platform/default/dso_loader.cc:64] Could not load dynamic library 'libcudart.so.11.0'; dlerror: libcudart.so.11.0: cannot open shared object file: No such file or directory; LD_LIBRARY_PATH: /home/leo/miniconda3/envs/face-recognition/lib/python3.8/site-packages/cv2/../../lib64:\n",
      "2025-09-30 11:16:04.169496: W tensorflow/stream_executor/platform/default/dso_loader.cc:64] Could not load dynamic library 'libcublas.so.11'; dlerror: libcublas.so.11: cannot open shared object file: No such file or directory; LD_LIBRARY_PATH: /home/leo/miniconda3/envs/face-recognition/lib/python3.8/site-packages/cv2/../../lib64:\n",
      "2025-09-30 11:16:04.169559: W tensorflow/stream_executor/platform/default/dso_loader.cc:64] Could not load dynamic library 'libcublasLt.so.11'; dlerror: libcublasLt.so.11: cannot open shared object file: No such file or directory; LD_LIBRARY_PATH: /home/leo/miniconda3/envs/face-recognition/lib/python3.8/site-packages/cv2/../../lib64:\n",
      "2025-09-30 11:16:04.169622: W tensorflow/stream_executor/platform/default/dso_loader.cc:64] Could not load dynamic library 'libcufft.so.10'; dlerror: libcufft.so.10: cannot open shared object file: No such file or directory; LD_LIBRARY_PATH: /home/leo/miniconda3/envs/face-recognition/lib/python3.8/site-packages/cv2/../../lib64:\n",
      "2025-09-30 11:16:04.169685: W tensorflow/stream_executor/platform/default/dso_loader.cc:64] Could not load dynamic library 'libcurand.so.10'; dlerror: libcurand.so.10: cannot open shared object file: No such file or directory; LD_LIBRARY_PATH: /home/leo/miniconda3/envs/face-recognition/lib/python3.8/site-packages/cv2/../../lib64:\n",
      "2025-09-30 11:16:04.169747: W tensorflow/stream_executor/platform/default/dso_loader.cc:64] Could not load dynamic library 'libcusolver.so.11'; dlerror: libcusolver.so.11: cannot open shared object file: No such file or directory; LD_LIBRARY_PATH: /home/leo/miniconda3/envs/face-recognition/lib/python3.8/site-packages/cv2/../../lib64:\n",
      "2025-09-30 11:16:04.169808: W tensorflow/stream_executor/platform/default/dso_loader.cc:64] Could not load dynamic library 'libcusparse.so.11'; dlerror: libcusparse.so.11: cannot open shared object file: No such file or directory; LD_LIBRARY_PATH: /home/leo/miniconda3/envs/face-recognition/lib/python3.8/site-packages/cv2/../../lib64:\n",
      "2025-09-30 11:16:04.169905: W tensorflow/stream_executor/platform/default/dso_loader.cc:64] Could not load dynamic library 'libcudnn.so.8'; dlerror: libcudnn.so.8: cannot open shared object file: No such file or directory; LD_LIBRARY_PATH: /home/leo/miniconda3/envs/face-recognition/lib/python3.8/site-packages/cv2/../../lib64:\n",
      "2025-09-30 11:16:04.169918: W tensorflow/core/common_runtime/gpu/gpu_device.cc:1766] Cannot dlopen some GPU libraries. Please make sure the missing libraries mentioned above are installed properly if you would like to use GPU. Follow the guide at https://www.tensorflow.org/install/gpu for how to download and setup the required libraries for your platform.\n",
      "Skipping registering GPU devices...\n",
      "2025-09-30 11:16:04.170441: I tensorflow/core/platform/cpu_feature_guard.cc:142] This TensorFlow binary is optimized with oneAPI Deep Neural Network Library (oneDNN) to use the following CPU instructions in performance-critical operations:  AVX2 FMA\n",
      "To enable them in other operations, rebuild TensorFlow with the appropriate compiler flags.\n",
      "2025-09-30 11:16:04.171696: I tensorflow/core/common_runtime/gpu/gpu_device.cc:1258] Device interconnect StreamExecutor with strength 1 edge matrix:\n",
      "2025-09-30 11:16:04.171710: I tensorflow/core/common_runtime/gpu/gpu_device.cc:1264]      \n",
      "2025-09-30 11:16:04.786882: I tensorflow/compiler/mlir/mlir_graph_optimization_pass.cc:176] None of the MLIR Optimization Passes are enabled (registered 2)\n",
      "2025-09-30 11:16:04.793742: I tensorflow/core/platform/profile_utils/cpu_utils.cc:114] CPU Frequency: 3892580000 Hz\n"
     ]
    },
    {
     "name": "stdout",
     "output_type": "stream",
     "text": [
      "model success !\n"
     ]
    }
   ],
   "source": [
    "retina = RetinaFace('high')"
   ]
  },
  {
   "cell_type": "code",
   "execution_count": 4,
   "id": "d955c655",
   "metadata": {},
   "outputs": [
    {
     "data": {
      "text/plain": [
       "[{'x1': 876,\n",
       "  'y1': 328,\n",
       "  'x2': 1384,\n",
       "  'y2': 852,\n",
       "  'left_eye': (1035, 542),\n",
       "  'right_eye': (1251, 528),\n",
       "  'nose': (1154, 659),\n",
       "  'left_lip': (1073, 733),\n",
       "  'right_lip': (1254, 716)}]"
      ]
     },
     "execution_count": 4,
     "metadata": {},
     "output_type": "execute_result"
    }
   ],
   "source": [
    "retina.predict(img)"
   ]
  },
  {
   "cell_type": "code",
   "execution_count": 5,
   "id": "e5c2e0e9",
   "metadata": {},
   "outputs": [],
   "source": [
    "img2 = cv2.imread('../test-2.jpg')"
   ]
  },
  {
   "cell_type": "code",
   "execution_count": 6,
   "id": "c51a1e74",
   "metadata": {},
   "outputs": [
    {
     "data": {
      "text/plain": [
       "[{'x1': 448,\n",
       "  'y1': 127,\n",
       "  'x2': 743,\n",
       "  'y2': 534,\n",
       "  'left_eye': (527, 282),\n",
       "  'right_eye': (662, 280),\n",
       "  'nose': (599, 364),\n",
       "  'left_lip': (537, 427),\n",
       "  'right_lip': (660, 421)},\n",
       " {'x1': 34,\n",
       "  'y1': 166,\n",
       "  'x2': 346,\n",
       "  'y2': 567,\n",
       "  'left_eye': (129, 304),\n",
       "  'right_eye': (274, 323),\n",
       "  'nose': (196, 414),\n",
       "  'left_lip': (113, 457),\n",
       "  'right_lip': (243, 470)},\n",
       " {'x1': 843,\n",
       "  'y1': 106,\n",
       "  'x2': 1166,\n",
       "  'y2': 517,\n",
       "  'left_eye': (920, 247),\n",
       "  'right_eye': (1071, 256),\n",
       "  'nose': (984, 319),\n",
       "  'left_lip': (927, 403),\n",
       "  'right_lip': (1055, 410)}]"
      ]
     },
     "execution_count": 6,
     "metadata": {},
     "output_type": "execute_result"
    }
   ],
   "source": [
    "retina.predict(img2)"
   ]
  },
  {
   "cell_type": "code",
   "execution_count": 7,
   "id": "3dc4f032",
   "metadata": {},
   "outputs": [],
   "source": [
    "img3 = cv2.imread('../test-3.jpg')"
   ]
  },
  {
   "cell_type": "code",
   "execution_count": 8,
   "id": "e4a135c6",
   "metadata": {},
   "outputs": [
    {
     "data": {
      "text/plain": [
       "[]"
      ]
     },
     "execution_count": 8,
     "metadata": {},
     "output_type": "execute_result"
    }
   ],
   "source": [
    "retina.predict(img3)"
   ]
  },
  {
   "cell_type": "code",
   "execution_count": null,
   "id": "7b521050",
   "metadata": {},
   "outputs": [],
   "source": []
  }
 ],
 "metadata": {
  "kernelspec": {
   "display_name": "face-recognition",
   "language": "python",
   "name": "python3"
  },
  "language_info": {
   "codemirror_mode": {
    "name": "ipython",
    "version": 3
   },
   "file_extension": ".py",
   "mimetype": "text/x-python",
   "name": "python",
   "nbconvert_exporter": "python",
   "pygments_lexer": "ipython3",
   "version": "3.8.20"
  }
 },
 "nbformat": 4,
 "nbformat_minor": 5
}
